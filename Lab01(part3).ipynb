{
  "cells": [
    {
      "cell_type": "markdown",
      "metadata": {
        "id": "view-in-github",
        "colab_type": "text"
      },
      "source": [
        "<a href=\"https://colab.research.google.com/github/SaiGanesh848/AIML/blob/main/Lab01(part3).ipynb\" target=\"_parent\"><img src=\"https://colab.research.google.com/assets/colab-badge.svg\" alt=\"Open In Colab\"/></a>"
      ]
    },
    {
      "cell_type": "code",
      "source": [
        "import numpy as np\n",
        "import pandas as pd\n",
        "df1 = pd.read_table(\"Lab01-Text.txt\")\n",
        "df1\n",
        "data2 = pd.read_csv(\"Lab01-Text.csv\")\n",
        "data2\n",
        "data3 = pd.read_excel(\"Height_weight.xlsx\")\n",
        "data3"
      ],
      "metadata": {
        "id": "lBGfwR-BKo4B"
      },
      "execution_count": null,
      "outputs": []
    }
  ],
  "metadata": {
    "colab": {
      "name": "Welcome to Colaboratory",
      "toc_visible": true,
      "provenance": [],
      "include_colab_link": true
    },
    "kernelspec": {
      "display_name": "Python 3",
      "name": "python3"
    }
  },
  "nbformat": 4,
  "nbformat_minor": 0
}