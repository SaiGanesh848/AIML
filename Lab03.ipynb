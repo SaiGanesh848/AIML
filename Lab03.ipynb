{
  "cells": [
    {
      "cell_type": "markdown",
      "metadata": {
        "id": "view-in-github",
        "colab_type": "text"
      },
      "source": [
        "<a href=\"https://colab.research.google.com/github/SaiGanesh848/AIML/blob/main/Lab03.ipynb\" target=\"_parent\"><img src=\"https://colab.research.google.com/assets/colab-badge.svg\" alt=\"Open In Colab\"/></a>"
      ]
    },
    {
      "cell_type": "markdown",
      "source": [
        "PART1"
      ],
      "metadata": {
        "id": "6cu8LscVTtpo"
      }
    },
    {
      "cell_type": "code",
      "source": [
        "from collections import namedtuple, Counter, defaultdict\n",
        "import random\n",
        "import math\n",
        "import functools\n",
        "cache = functools.lru_cache(10**6)\n"
      ],
      "metadata": {
        "id": "r1UpidcCUGAQ"
      },
      "execution_count": 11,
      "outputs": []
    },
    {
      "cell_type": "code",
      "source": [
        "class Game:\n",
        "    def actions(self, state):\n",
        "        raise NotImplementedError\n",
        "\n",
        "    def result(self, state, move):\n",
        "        raise NotImplementedError\n",
        "\n",
        "    def is_terminal(self, state):\n",
        "        return not self.actions(state)\n",
        "\n",
        "    def utility(self, state, player):\n",
        "        raise NotImplementedError"
      ],
      "metadata": {
        "id": "-ry86y7PU5C7"
      },
      "execution_count": 14,
      "outputs": []
    },
    {
      "cell_type": "code",
      "source": [
        "def play_game(game, strategies: dict, verbose=False):\n",
        "    state = game.initial\n",
        "    while not game.is_terminal(state):\n",
        "        player = state.to_move\n",
        "        move = strategies[player](game, state)\n",
        "        state = game.result(state, move)\n",
        "        if verbose:\n",
        "            print('Player', player, 'move:', move)\n",
        "            print(state)\n",
        "    return state"
      ],
      "metadata": {
        "id": "nM_UFzg7VRtf"
      },
      "execution_count": 16,
      "outputs": []
    },
    {
      "cell_type": "markdown",
      "source": [
        "Part-02: Implementation of Game Strategy Algorithm"
      ],
      "metadata": {
        "id": "Qz1CYFmrViki"
      }
    },
    {
      "cell_type": "code",
      "source": [
        "def minimax_search(game, state):\n",
        "    player = state.to_move\n",
        "\n",
        "    def max_value(state):\n",
        "        if game.is_terminal(state):\n",
        "            return game.utility(state, player), None\n",
        "        v, move = -infinity, None\n",
        "        for a in game.actions(state):\n",
        "            v2, _ = min_value(game.result(state, a))\n",
        "            if v2 > v:\n",
        "                v, move = v2, a\n",
        "        return v, move\n",
        "\n",
        "    def min_value(state):\n",
        "        if game.is_terminal(state):\n",
        "            return game.utility(state, player), None\n",
        "        v, move = +infinity, None\n",
        "        for a in game.actions(state):\n",
        "            v2, _ = max_value(game.result(state, a))\n",
        "            if v2 < v:\n",
        "                v, move = v2, a\n",
        "        return v, move\n",
        "\n",
        "    return max_value(state)\n",
        "\n",
        "infinity = math.inf"
      ],
      "metadata": {
        "id": "tCsAjs5wVrOp"
      },
      "execution_count": 17,
      "outputs": []
    },
    {
      "cell_type": "code",
      "source": [
        "def alphabeta_search(game, state):\n",
        "\n",
        "    player = state.to_move\n",
        "\n",
        "    def max_value(state, alpha, beta):\n",
        "        if game.is_terminal(state):\n",
        "            return game.utility(state, player), None\n",
        "        v, move = -infinity, None\n",
        "        for a in game.actions(state):\n",
        "            v2, _ = min_value(game.result(state, a), alpha, beta)\n",
        "            if v2 > v:\n",
        "                v, move = v2, a\n",
        "                alpha = max(alpha, v)\n",
        "            if v >= beta:\n",
        "                return v, move\n",
        "        return v, move\n",
        "\n",
        "    def min_value(state, alpha, beta):\n",
        "        if game.is_terminal(state):\n",
        "            return game.utility(state, player), None\n",
        "        v, move = +infinity, None\n",
        "        for a in game.actions(state):\n",
        "            v2, _ = max_value(game.result(state, a), alpha, beta)\n",
        "            if v2 < v:\n",
        "                v, move = v2, a\n",
        "                beta = min(beta, v)\n",
        "            if v <= alpha:\n",
        "                return v, move\n",
        "        return v, move\n",
        "\n",
        "    return max_value(state, -infinity, +infinity)"
      ],
      "metadata": {
        "id": "6viadCoIV33l"
      },
      "execution_count": 18,
      "outputs": []
    },
    {
      "cell_type": "markdown",
      "source": [
        "Part-03: Implement the Game Strategy using TicTacToe"
      ],
      "metadata": {
        "id": "-T95kHcVWQOj"
      }
    },
    {
      "cell_type": "code",
      "source": [
        "class TicTacToe(Game):\n",
        "    def __init__(self, height=3, width=3, k=3):\n",
        "        self.k = k # k in a row\n",
        "        self.squares = {(x, y) for x in range(width) for y in range(height)}\n",
        "        self.initial = Board(height=height, width=width, to_move='X', utility=0)\n",
        "\n",
        "    def actions(self, board):\n",
        "        return self.squares - set(board)\n",
        "\n",
        "    def result(self, board, square):\n",
        "        player = board.to_move\n",
        "        board = board.new({square: player}, to_move=('O' if player == 'X' else 'X'))\n",
        "        win = k_in_row(board, player, square, self.k)\n",
        "        board.utility = (0 if not win else +1 if player == 'X' else -1)\n",
        "        return board\n",
        "\n",
        "    def utility(self, board, player):\n",
        "        return board.utility if player == 'X' else -board.utility\n",
        "\n",
        "    def is_terminal(self, board):\n",
        "        return board.utility != 0 or len(self.squares) == len(board)\n",
        "\n",
        "    def display(self, board): print(board)\n",
        "\n",
        "\n",
        "def k_in_row(board, player, square, k):\n",
        "    def in_row(x, y, dx, dy): return 0 if board[x, y] != player else 1 + in_row(x + dx, y + dy, dx, dy)\n",
        "    return any(in_row(*square, dx, dy) + in_row(*square, -dx, -dy)-1>=k\n",
        "               for (dx, dy) in ((0, 1), (1, 0), (1, 1), (1, -1)))"
      ],
      "metadata": {
        "id": "s6TNvIvrWSCm"
      },
      "execution_count": 22,
      "outputs": []
    },
    {
      "cell_type": "code",
      "source": [
        "class Board(defaultdict):\n",
        "    empty = '.'\n",
        "    off = '#'\n",
        "\n",
        "    def __init__(self, width=8, height=8, to_move=None, **kwds):\n",
        "        self.__dict__.update(width=width, height=height, to_move=to_move, **kwds)\n",
        "\n",
        "    def new(self, changes: dict, **kwds) -> 'Board':\n",
        "        board = Board(width=self.width, height=self.height, **kwds)\n",
        "        board.update(self)\n",
        "        board.update(changes)\n",
        "        return board\n",
        "\n",
        "    def __missing__(self, loc):\n",
        "        x, y = loc\n",
        "        if 0 <= x < self.width and 0 <= y < self.height:\n",
        "            return self.empty\n",
        "        else:\n",
        "            return self.off\n",
        "\n",
        "    def __hash__(self):\n",
        "        return hash(tuple(sorted(self.items()))) + hash(self.to_move)\n",
        "\n",
        "    def __repr__(self):\n",
        "        def row(y): return ' '.join(self[x, y] for x in range(self.width))\n",
        "        return '\\n'.join(map(row, range(self.height))) +  '\\n'"
      ],
      "metadata": {
        "id": "o1ppdZhGWvxP"
      },
      "execution_count": 23,
      "outputs": []
    },
    {
      "cell_type": "code",
      "source": [
        "def random_player(game, state): return random.choice(list(game.actions(state)))\n",
        "\n",
        "def player(search_algorithm):\n",
        "    return lambda game, state: search_algorithm(game, state)[1]"
      ],
      "metadata": {
        "id": "1d9UtbxPW_G-"
      },
      "execution_count": 24,
      "outputs": []
    },
    {
      "cell_type": "code",
      "source": [
        "play_game(TicTacToe(), dict(X=random_player, O=player(alphabeta_search)), verbose=True).utility"
      ],
      "metadata": {
        "id": "UTvnllO_XXvY",
        "outputId": "63c92c16-1be9-4dc3-a563-d7cf7f0a1d3a",
        "colab": {
          "base_uri": "https://localhost:8080/"
        }
      },
      "execution_count": 25,
      "outputs": [
        {
          "output_type": "stream",
          "name": "stdout",
          "text": [
            "Player X move: (1, 0)\n",
            ". X .\n",
            ". . .\n",
            ". . .\n",
            "\n",
            "Player O move: (1, 2)\n",
            ". X .\n",
            ". . .\n",
            ". O .\n",
            "\n",
            "Player X move: (0, 0)\n",
            "X X .\n",
            ". . .\n",
            ". O .\n",
            "\n",
            "Player O move: (2, 0)\n",
            "X X O\n",
            ". . .\n",
            ". O .\n",
            "\n",
            "Player X move: (0, 2)\n",
            "X X O\n",
            ". . .\n",
            "X O .\n",
            "\n",
            "Player O move: (0, 1)\n",
            "X X O\n",
            "O . .\n",
            "X O .\n",
            "\n",
            "Player X move: (2, 1)\n",
            "X X O\n",
            "O . X\n",
            "X O .\n",
            "\n",
            "Player O move: (1, 1)\n",
            "X X O\n",
            "O O X\n",
            "X O .\n",
            "\n",
            "Player X move: (2, 2)\n",
            "X X O\n",
            "O O X\n",
            "X O X\n",
            "\n"
          ]
        },
        {
          "output_type": "execute_result",
          "data": {
            "text/plain": [
              "0"
            ]
          },
          "metadata": {},
          "execution_count": 25
        }
      ]
    },
    {
      "cell_type": "code",
      "source": [
        "play_game(TicTacToe(), dict(X=player(alphabeta_search), O=player(minimax_search)), verbose=True).utility"
      ],
      "metadata": {
        "id": "seD_CHxKXxun",
        "outputId": "5121cdd2-142b-4c77-8c32-dc4ebc376dfa",
        "colab": {
          "base_uri": "https://localhost:8080/"
        }
      },
      "execution_count": 26,
      "outputs": [
        {
          "output_type": "stream",
          "name": "stdout",
          "text": [
            "Player X move: (0, 1)\n",
            ". . .\n",
            "X . .\n",
            ". . .\n",
            "\n",
            "Player O move: (2, 1)\n",
            ". . .\n",
            "X . O\n",
            ". . .\n",
            "\n",
            "Player X move: (1, 2)\n",
            ". . .\n",
            "X . O\n",
            ". X .\n",
            "\n",
            "Player O move: (0, 0)\n",
            "O . .\n",
            "X . O\n",
            ". X .\n",
            "\n",
            "Player X move: (1, 1)\n",
            "O . .\n",
            "X X O\n",
            ". X .\n",
            "\n",
            "Player O move: (1, 0)\n",
            "O O .\n",
            "X X O\n",
            ". X .\n",
            "\n",
            "Player X move: (2, 0)\n",
            "O O X\n",
            "X X O\n",
            ". X .\n",
            "\n",
            "Player O move: (0, 2)\n",
            "O O X\n",
            "X X O\n",
            "O X .\n",
            "\n",
            "Player X move: (2, 2)\n",
            "O O X\n",
            "X X O\n",
            "O X X\n",
            "\n"
          ]
        },
        {
          "output_type": "execute_result",
          "data": {
            "text/plain": [
              "0"
            ]
          },
          "metadata": {},
          "execution_count": 26
        }
      ]
    }
  ],
  "metadata": {
    "colab": {
      "name": "Welcome to Colaboratory",
      "toc_visible": true,
      "provenance": [],
      "include_colab_link": true
    },
    "kernelspec": {
      "display_name": "Python 3",
      "name": "python3"
    }
  },
  "nbformat": 4,
  "nbformat_minor": 0
}