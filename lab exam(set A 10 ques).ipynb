{
  "nbformat": 4,
  "nbformat_minor": 0,
  "metadata": {
    "colab": {
      "provenance": [],
      "authorship_tag": "ABX9TyNacJ7Ku45SKadai8elQhNq",
      "include_colab_link": true
    },
    "kernelspec": {
      "name": "python3",
      "display_name": "Python 3"
    },
    "language_info": {
      "name": "python"
    }
  },
  "cells": [
    {
      "cell_type": "markdown",
      "metadata": {
        "id": "view-in-github",
        "colab_type": "text"
      },
      "source": [
        "<a href=\"https://colab.research.google.com/github/SaiGanesh848/AIML/blob/main/lab%20exam(set%20A%2010%20ques).ipynb\" target=\"_parent\"><img src=\"https://colab.research.google.com/assets/colab-badge.svg\" alt=\"Open In Colab\"/></a>"
      ]
    },
    {
      "cell_type": "markdown",
      "source": [
        "**Prediction of Car evaluation for buying decision**\n",
        "\n",
        "1. Identify the top 5 reasons for buying a car\n",
        "\n",
        "2. Identify the class with most cars sold\n",
        "\n",
        "3. Find the max and min safety choice for car buying\n",
        "\n",
        "4. What is the role of paint, doors, lug_boot in car buying\n",
        "\n",
        "5 Identify the cars with most maintenance\n",
        "\n",
        "6. Apply either Classification Model or Clustering Model to evaluate the dataset"
      ],
      "metadata": {
        "id": "YYl34olSzr6C"
      }
    },
    {
      "cell_type": "code",
      "source": [
        "import pandas as pd\n",
        "import numpy as np\n",
        "import matplotlib.pyplot as plt\n",
        "from sklearn.model_selection import train_test_split\n",
        "from sklearn.preprocessing import LabelEncoder\n",
        "from sklearn.ensemble import RandomForestClassifier\n",
        "from sklearn.metrics import accuracy_score, classification_report\n",
        "from sklearn.cluster import KMeans\n",
        "from sklearn.preprocessing import StandardScaler\n"
      ],
      "metadata": {
        "id": "XhFyBAOt2XCG"
      },
      "execution_count": 8,
      "outputs": []
    },
    {
      "cell_type": "code",
      "source": [
        "# Step 1: Load the dataset\n",
        "# For this example, we'll create a mock dataset. Replace it with your actual data file.\n",
        "# df = pd.read_csv('car_evaluation.csv')  # Uncomment and use your actual dataset\n",
        "\n",
        "data = {\n",
        "    'buying': np.random.choice(['low', 'med', 'high', 'vhigh'], 100),\n",
        "    'maint': np.random.choice(['low', 'med', 'high'], 100),\n",
        "    'doors': np.random.choice([2, 3, 4, 5], 100),\n",
        "    'persons': np.random.choice([2, 4], 100),\n",
        "    'lug_boot': np.random.choice(['small', 'med', 'big'], 100),\n",
        "    'safety': np.random.choice(['low', 'med', 'high'], 100),\n",
        "    'class': np.random.choice(['unacc', 'acc', 'good', 'vgood'], 100),\n",
        "    'paint': np.random.choice(['red', 'blue', 'green', 'black'], 100)\n",
        "}\n",
        "\n",
        "df = pd.DataFrame(data)\n"
      ],
      "metadata": {
        "id": "oO3ALA8n2Y0W"
      },
      "execution_count": 9,
      "outputs": []
    },
    {
      "cell_type": "code",
      "source": [
        "# Step 2: Identify the top 5 reasons for buying a car based on correlation with 'class' (target variable)\n",
        "# Encode categorical data\n",
        "label_encoder = LabelEncoder()\n",
        "for column in df.columns:\n",
        "    df[column] = label_encoder.fit_transform(df[column])\n",
        "\n",
        "# Correlation matrix\n",
        "correlation_matrix = df.corr()\n",
        "top_5_reasons = correlation_matrix['class'].sort_values(ascending=False)[1:6]\n",
        "print(\"Top 5 reasons for buying a car based on correlation with 'class':\")\n",
        "print(top_5_reasons)\n"
      ],
      "metadata": {
        "colab": {
          "base_uri": "https://localhost:8080/"
        },
        "id": "55p_feqB2xJB",
        "outputId": "5df997e1-c4a3-4e29-ee94-a11017e556aa"
      },
      "execution_count": 10,
      "outputs": [
        {
          "output_type": "stream",
          "name": "stdout",
          "text": [
            "Top 5 reasons for buying a car based on correlation with 'class':\n",
            "buying    0.106217\n",
            "doors     0.102310\n",
            "maint     0.061957\n",
            "safety    0.054338\n",
            "paint     0.039121\n",
            "Name: class, dtype: float64\n"
          ]
        }
      ]
    },
    {
      "cell_type": "code",
      "source": [
        "# Step 3: Identify the class with most cars sold\n",
        "class_counts = df['class'].value_counts()\n",
        "print(\"\\nClass with most cars sold:\")\n",
        "print(class_counts)\n"
      ],
      "metadata": {
        "colab": {
          "base_uri": "https://localhost:8080/"
        },
        "id": "C0L8Lh1O22Ho",
        "outputId": "002d2ae9-f852-4952-ff43-3dd6fc09f631"
      },
      "execution_count": 11,
      "outputs": [
        {
          "output_type": "stream",
          "name": "stdout",
          "text": [
            "\n",
            "Class with most cars sold:\n",
            "class\n",
            "1    28\n",
            "0    24\n",
            "3    24\n",
            "2    24\n",
            "Name: count, dtype: int64\n"
          ]
        }
      ]
    },
    {
      "cell_type": "code",
      "source": [
        "# Step 4: Find the max and min safety choice for car buying\n",
        "max_safety = df['safety'].max()\n",
        "min_safety = df['safety'].min()\n",
        "print(f\"\\nMax safety choice: {max_safety}, Min safety choice: {min_safety}\")\n"
      ],
      "metadata": {
        "colab": {
          "base_uri": "https://localhost:8080/"
        },
        "id": "ZQeoMl0U24CE",
        "outputId": "0aa02e8c-0322-4e36-8899-67b37a5cf6fc"
      },
      "execution_count": 12,
      "outputs": [
        {
          "output_type": "stream",
          "name": "stdout",
          "text": [
            "\n",
            "Max safety choice: 2, Min safety choice: 0\n"
          ]
        }
      ]
    },
    {
      "cell_type": "code",
      "source": [
        "# Step 5: What is the role of paint, doors, lug_boot in car buying?\n",
        "# We can look at the correlation of these attributes with the target 'class'\n",
        "print(\"\\nRole of Paint, Doors, and Lug Boot in car buying:\")\n",
        "paint_role = correlation_matrix['class']['paint']\n",
        "doors_role = correlation_matrix['class']['doors']\n",
        "lug_boot_role = correlation_matrix['class']['lug_boot']\n",
        "print(f\"Paint: {paint_role}, Doors: {doors_role}, Lug Boot: {lug_boot_role}\")\n"
      ],
      "metadata": {
        "colab": {
          "base_uri": "https://localhost:8080/"
        },
        "id": "BAe8EBer28yZ",
        "outputId": "6c9bbe75-2d9d-4710-d0d1-6a9f7faa1e47"
      },
      "execution_count": 13,
      "outputs": [
        {
          "output_type": "stream",
          "name": "stdout",
          "text": [
            "\n",
            "Role of Paint, Doors, and Lug Boot in car buying:\n",
            "Paint: 0.039121087345716905, Doors: 0.10230992991535637, Lug Boot: -0.029408619915141293\n"
          ]
        }
      ]
    },
    {
      "cell_type": "code",
      "source": [
        "# Step 6: Identify the cars with most maintenance\n",
        "most_maintenance = df[df['maint'] == df['maint'].max()]\n",
        "print(\"\\nCars with most maintenance:\")\n",
        "print(most_maintenance)\n"
      ],
      "metadata": {
        "colab": {
          "base_uri": "https://localhost:8080/"
        },
        "id": "6nbGLaak28t3",
        "outputId": "9f5efc48-780b-4105-b7e9-ec9916abdb3d"
      },
      "execution_count": 14,
      "outputs": [
        {
          "output_type": "stream",
          "name": "stdout",
          "text": [
            "\n",
            "Cars with most maintenance:\n",
            "    buying  maint  doors  persons  lug_boot  safety  class  paint\n",
            "0        0      2      1        1         0       2      1      3\n",
            "1        0      2      2        1         1       0      1      3\n",
            "2        1      2      3        1         0       1      0      3\n",
            "3        3      2      1        1         1       2      3      3\n",
            "4        3      2      0        1         1       2      3      0\n",
            "10       2      2      1        1         0       2      2      1\n",
            "11       2      2      2        0         1       1      3      3\n",
            "12       1      2      3        1         1       1      0      2\n",
            "13       1      2      3        0         1       0      0      2\n",
            "15       1      2      2        0         2       2      3      3\n",
            "24       2      2      3        0         1       2      3      2\n",
            "25       0      2      3        1         0       0      0      3\n",
            "29       0      2      0        0         0       1      3      2\n",
            "31       1      2      3        1         1       0      0      2\n",
            "37       0      2      1        0         0       2      0      0\n",
            "40       3      2      3        1         0       0      3      3\n",
            "47       0      2      3        0         0       2      2      0\n",
            "49       0      2      3        0         2       0      1      0\n",
            "52       1      2      1        0         0       0      3      2\n",
            "54       0      2      1        1         2       1      3      0\n",
            "55       3      2      3        0         1       1      3      0\n",
            "58       0      2      1        0         0       0      2      2\n",
            "59       3      2      2        1         1       1      1      0\n",
            "61       3      2      2        1         1       0      3      1\n",
            "65       2      2      1        1         0       2      1      0\n",
            "66       0      2      0        0         1       2      0      2\n",
            "68       2      2      3        0         2       1      0      3\n",
            "73       0      2      0        0         2       2      1      1\n",
            "78       3      2      2        1         2       0      2      3\n",
            "81       1      2      3        0         1       1      3      2\n",
            "82       1      2      2        0         1       2      3      0\n",
            "83       1      2      3        0         0       1      3      3\n",
            "88       2      2      2        1         1       0      2      0\n",
            "90       3      2      0        1         1       1      1      1\n",
            "93       1      2      0        0         2       2      0      2\n",
            "94       3      2      3        1         1       0      1      3\n",
            "97       0      2      0        1         2       0      2      1\n",
            "98       3      2      3        1         1       1      0      3\n"
          ]
        }
      ]
    },
    {
      "cell_type": "code",
      "source": [
        "# Step 7: Apply Classification Model (Random Forest Classifier)\n",
        "# Split the dataset into features (X) and target (y)\n",
        "X = df.drop('class', axis=1)\n",
        "y = df['class']\n",
        "\n",
        "# Split into training and testing sets\n",
        "X_train, X_test, y_train, y_test = train_test_split(X, y, test_size=0.2, random_state=42)\n",
        "\n",
        "# Train a Random Forest Classifier\n",
        "model = RandomForestClassifier(n_estimators=100, random_state=42)\n",
        "model.fit(X_train, y_train)\n",
        "\n",
        "# Make predictions\n",
        "y_pred = model.predict(X_test)\n",
        "\n",
        "# Evaluate the model\n",
        "print(\"\\nClassification Model Evaluation:\")\n",
        "print(f\"Accuracy: {accuracy_score(y_test, y_pred)}\")\n",
        "print(classification_report(y_test, y_pred))\n"
      ],
      "metadata": {
        "colab": {
          "base_uri": "https://localhost:8080/"
        },
        "id": "D1-ek3jg28my",
        "outputId": "e86ad827-b412-4c91-bec6-8c2b2c246e3e"
      },
      "execution_count": 15,
      "outputs": [
        {
          "output_type": "stream",
          "name": "stdout",
          "text": [
            "\n",
            "Classification Model Evaluation:\n",
            "Accuracy: 0.25\n",
            "              precision    recall  f1-score   support\n",
            "\n",
            "           0       0.50      0.50      0.50         6\n",
            "           1       0.20      0.14      0.17         7\n",
            "           2       0.17      0.33      0.22         3\n",
            "           3       0.00      0.00      0.00         4\n",
            "\n",
            "    accuracy                           0.25        20\n",
            "   macro avg       0.22      0.24      0.22        20\n",
            "weighted avg       0.25      0.25      0.24        20\n",
            "\n"
          ]
        }
      ]
    },
    {
      "cell_type": "code",
      "source": [
        "# Step 8: Apply Clustering Model (KMeans)\n",
        "# Scale the features before clustering\n",
        "scaler = StandardScaler()\n",
        "X_scaled = scaler.fit_transform(X)\n",
        "\n",
        "# Apply KMeans Clustering (n_clusters can be adjusted based on your needs)\n",
        "kmeans = KMeans(n_clusters=3, random_state=42)\n",
        "df['cluster'] = kmeans.fit_predict(X_scaled)\n",
        "\n",
        "# Visualize the clusters (using 'doors' and 'safety' for 2D visualization)\n",
        "plt.figure(figsize=(8, 6))\n",
        "plt.scatter(df['doors'], df['safety'], c=df['cluster'], cmap='viridis')\n",
        "plt.title('K-Means Clustering of Car Evaluation Data')\n",
        "plt.xlabel('Doors')\n",
        "plt.ylabel('Safety')\n",
        "plt.show()"
      ],
      "metadata": {
        "colab": {
          "base_uri": "https://localhost:8080/",
          "height": 564
        },
        "id": "YU3sACDz28aq",
        "outputId": "29164e03-4075-4bd9-dda3-27b7500cde8a"
      },
      "execution_count": 16,
      "outputs": [
        {
          "output_type": "display_data",
          "data": {
            "text/plain": [
              "<Figure size 800x600 with 1 Axes>"
            ],
            "image/png": "[encoded data removed]"
          },
          "metadata": {}
        }
      ]
    }
  ]
}